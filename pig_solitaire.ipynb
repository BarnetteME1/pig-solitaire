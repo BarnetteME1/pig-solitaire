{
 "cells": [
  {
   "cell_type": "code",
   "execution_count": 4,
   "metadata": {
    "collapsed": true
   },
   "outputs": [],
   "source": [
    "#dice_roll\n",
    "#opponent\n",
    "#player\n",
    "#game\n",
    "import random"
   ]
  },
  {
   "cell_type": "code",
   "execution_count": 5,
   "metadata": {
    "collapsed": false
   },
   "outputs": [],
   "source": [
    "class Dice:\n",
    "    \n",
    "    def roll(self):\n",
    "        roll = random.randint(1,6)\n",
    "        return roll"
   ]
  },
  {
   "cell_type": "code",
   "execution_count": 6,
   "metadata": {
    "collapsed": false
   },
   "outputs": [
    {
     "data": {
      "text/plain": [
       "4"
      ]
     },
     "execution_count": 6,
     "metadata": {},
     "output_type": "execute_result"
    }
   ],
   "source": [
    "d = Dice()\n",
    "d.roll()"
   ]
  },
  {
   "cell_type": "code",
   "execution_count": 7,
   "metadata": {
    "collapsed": false
   },
   "outputs": [],
   "source": [
    "class Opponent:\n",
    "    \n",
    "    def __init__(self):\n",
    "        self.dice = Dice()\n",
    "        self.score = 0\n",
    "        self.total_score = 0\n",
    "        self.count = 0\n",
    "        \n",
    "        \n",
    "    def roll(self):\n",
    "        return self.dice.roll()\n",
    "    \n",
    "    def round_score(self):\n",
    "        roll = self.roll()\n",
    "        if roll > 1:\n",
    "            self.score += roll\n",
    "        else:\n",
    "            self.score = 0\n",
    "            \n",
    "        return self.score\n",
    "    \n",
    "    def roll_or_hold(self):\n",
    "        response = self.decision()\n",
    "        self.decision()\n",
    "        if response == 'hold':\n",
    "            print(\"\\nYour opponant holds\")\n",
    "            self.total_score += self.score\n",
    "            self.score = 0\n",
    "            self.count = 0\n",
    "            return self.total_score\n",
    "        elif response == 'roll':\n",
    "            print(\"\\nYour opponant rolls\")\n",
    "            self.round_score()\n",
    "            print(\"your opponents score this round: \", self.score)\n",
    "            print(\"your opponents total score: \", self.total_score)\n",
    "            return self.roll_or_hold()\n",
    "        elif response == 'bust':\n",
    "            print(\"\\nYour opponant busts\")\n",
    "            self.count = 0\n",
    "            return self.total_score\n",
    "        \n",
    "    def decision(self):\n",
    "        if self.score > 10:\n",
    "            return \"hold\"\n",
    "        elif self.score == 0 and self.count > 0:\n",
    "            return \"bust\"\n",
    "        else:\n",
    "            self.count += 1\n",
    "            return \"roll\""
   ]
  },
  {
   "cell_type": "code",
   "execution_count": 8,
   "metadata": {
    "collapsed": false
   },
   "outputs": [],
   "source": [
    "o = Opponent()"
   ]
  },
  {
   "cell_type": "code",
   "execution_count": 9,
   "metadata": {
    "collapsed": false
   },
   "outputs": [
    {
     "name": "stdout",
     "output_type": "stream",
     "text": [
      "Your opponant rolls\n",
      "your opponents score this round:  4\n",
      "your opponents total score:  0\n",
      "Your opponant rolls\n",
      "your opponents score this round:  6\n",
      "your opponents total score:  0\n",
      "Your opponant rolls\n",
      "your opponents score this round:  8\n",
      "your opponents total score:  0\n",
      "Your opponant rolls\n",
      "your opponents score this round:  14\n",
      "your opponents total score:  0\n",
      "Your opponant holds\n"
     ]
    },
    {
     "data": {
      "text/plain": [
       "14"
      ]
     },
     "execution_count": 9,
     "metadata": {},
     "output_type": "execute_result"
    }
   ],
   "source": [
    "o.roll_or_hold()"
   ]
  },
  {
   "cell_type": "code",
   "execution_count": 48,
   "metadata": {
    "collapsed": false
   },
   "outputs": [],
   "source": [
    "class Player:\n",
    "    \n",
    "    def __init__(self):\n",
    "        self.dice = Dice()\n",
    "        self.score = 0\n",
    "        self.total_score = 0\n",
    "        self.count = 0\n",
    "    \n",
    "    def roll(self):\n",
    "        return self.dice.roll()\n",
    "    \n",
    "    def round_score(self):\n",
    "        roll = self.roll()\n",
    "        if roll > 1:\n",
    "            self.score += roll\n",
    "        else:\n",
    "            self.score = 0\n",
    "        return self.score\n",
    "    \n",
    "    def roll_or_hold(self):\n",
    "        if self.score == 0 and self.count > 0:\n",
    "            print(self.count)\n",
    "            print(\"You bust\")\n",
    "            self.count = 0\n",
    "            return self.total_score\n",
    "        else:\n",
    "            response = input(\"\\nDo you want to roll or hold? (Roll/Hold)\".lower())\n",
    "            if response == 'hold':\n",
    "                print(\"You hold\")\n",
    "                self.total_score += self.score\n",
    "                self.score = 0\n",
    "                self.count = 0\n",
    "                return self.total_score\n",
    "            if response == 'roll':\n",
    "                print(\"You roll\")\n",
    "                self.round_score()\n",
    "                print(\"your score this round: \", self.score)\n",
    "                print(\"your total score: \", self.total_score)\n",
    "                self.count += 1\n",
    "                return self.roll_or_hold()"
   ]
  },
  {
   "cell_type": "code",
   "execution_count": 49,
   "metadata": {
    "collapsed": false
   },
   "outputs": [],
   "source": [
    "p = Player()"
   ]
  },
  {
   "cell_type": "code",
   "execution_count": 50,
   "metadata": {
    "collapsed": false
   },
   "outputs": [
    {
     "name": "stdout",
     "output_type": "stream",
     "text": [
      "\n",
      "do you want to roll or hold? (roll/hold)roll\n",
      "You roll\n",
      "your score this round:  4\n",
      "your total score:  0\n",
      "\n",
      "do you want to roll or hold? (roll/hold)roll\n",
      "You roll\n",
      "your score this round:  0\n",
      "your total score:  0\n",
      "2\n",
      "You bust\n"
     ]
    },
    {
     "data": {
      "text/plain": [
       "0"
      ]
     },
     "execution_count": 50,
     "metadata": {},
     "output_type": "execute_result"
    }
   ],
   "source": [
    "p.roll_or_hold()"
   ]
  },
  {
   "cell_type": "code",
   "execution_count": 46,
   "metadata": {
    "collapsed": false
   },
   "outputs": [],
   "source": [
    "class Game:\n",
    "    \n",
    "    def __init__(self, round = 7):\n",
    "        self.p1 = Player()\n",
    "        self.p2 = Opponent()\n",
    "        self.round_count = 0\n",
    "        \n",
    "\n",
    "    def p1_turn(self):\n",
    "        self.p1.roll_or_hold()\n",
    "    \n",
    "    def p2_turn(self):\n",
    "        self.p2.roll_or_hold()\n",
    "        \n",
    "    def play_round(self):\n",
    "        self.p1_turn()\n",
    "        self.p2_turn()\n",
    "        \n",
    "    def full_game(self):\n",
    "        while self.round <= 7:\n",
    "            self.play_round\n",
    "            self.round_count += 1"
   ]
  },
  {
   "cell_type": "code",
   "execution_count": 47,
   "metadata": {
    "collapsed": false
   },
   "outputs": [
    {
     "name": "stdout",
     "output_type": "stream",
     "text": [
      "do you want to roll or hold? (roll/hold)roll\n",
      "You roll\n",
      "your score this round:  3\n",
      "your total score:  0\n",
      "do you want to roll or hold? (roll/hold)roll\n",
      "You roll\n",
      "your score this round:  8\n",
      "your total score:  0\n",
      "do you want to roll or hold? (roll/hold)hold\n",
      "You hold\n",
      "Your opponant rolls\n",
      "your opponents score this round:  5\n",
      "your opponents total score:  0\n",
      "Your opponant rolls\n",
      "your opponents score this round:  8\n",
      "your opponents total score:  0\n",
      "Your opponant rolls\n",
      "your opponents score this round:  10\n",
      "your opponents total score:  0\n",
      "Your opponant rolls\n",
      "your opponents score this round:  16\n",
      "your opponents total score:  0\n",
      "Your opponant holds\n"
     ]
    }
   ],
   "source": [
    "g = Game()\n",
    "g.play_round()"
   ]
  },
  {
   "cell_type": "code",
   "execution_count": 1211,
   "metadata": {
    "collapsed": false
   },
   "outputs": [],
   "source": [
    "def heads_tails():\n",
    "    return random.choice(['heads', 'tails'])"
   ]
  },
  {
   "cell_type": "code",
   "execution_count": 970,
   "metadata": {
    "collapsed": false
   },
   "outputs": [
    {
     "data": {
      "text/plain": [
       "'tails'"
      ]
     },
     "execution_count": 970,
     "metadata": {},
     "output_type": "execute_result"
    }
   ],
   "source": [
    "heads_tails()"
   ]
  },
  {
   "cell_type": "code",
   "execution_count": null,
   "metadata": {
    "collapsed": true
   },
   "outputs": [],
   "source": [
    "    def pick_first(self):\n",
    "        guess = input(\"Pick heads or tails. \").lower()\n",
    "        coin_toss = random.choice(['heads', 'tails'])\n",
    "        if guess == coin_toss:\n",
    "            return \"You go first.\"\n",
    "        elif guess != 'heads' or guess != 'tails':\n",
    "            return \"Fine, wise guy. Your opponent goes first\"\n",
    "        else:\n",
    "            return \"Your opponent goes first.\""
   ]
  }
 ],
 "metadata": {
  "kernelspec": {
   "display_name": "Python 3",
   "language": "python",
   "name": "python3"
  },
  "language_info": {
   "codemirror_mode": {
    "name": "ipython",
    "version": 3
   },
   "file_extension": ".py",
   "mimetype": "text/x-python",
   "name": "python",
   "nbconvert_exporter": "python",
   "pygments_lexer": "ipython3",
   "version": "3.5.0"
  }
 },
 "nbformat": 4,
 "nbformat_minor": 0
}

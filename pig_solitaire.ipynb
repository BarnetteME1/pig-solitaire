{
 "cells": [
  {
   "cell_type": "code",
   "execution_count": 2,
   "metadata": {
    "collapsed": true
   },
   "outputs": [],
   "source": [
    "#dice_roll\n",
    "#opponent\n",
    "#player\n",
    "#game\n",
    "import random"
   ]
  },
  {
   "cell_type": "code",
   "execution_count": 676,
   "metadata": {
    "collapsed": false
   },
   "outputs": [],
   "source": [
    "class Dice:\n",
    "    \n",
    "    def roll(self):\n",
    "        roll = random.randint(1,6)\n",
    "        return roll"
   ]
  },
  {
   "cell_type": "code",
   "execution_count": 677,
   "metadata": {
    "collapsed": false
   },
   "outputs": [
    {
     "data": {
      "text/plain": [
       "2"
      ]
     },
     "execution_count": 677,
     "metadata": {},
     "output_type": "execute_result"
    }
   ],
   "source": [
    "d = Dice()\n",
    "d.roll()"
   ]
  },
  {
   "cell_type": "code",
   "execution_count": 835,
   "metadata": {
    "collapsed": false
   },
   "outputs": [],
   "source": [
    "class Opponent:\n",
    "    \n",
    "    def __init__(self):\n",
    "        self.dice = Dice()\n",
    "        self.score = 0\n",
    "        self.total_score = 0\n",
    "        \n",
    "    def roll(self):\n",
    "        return self.dice.roll()\n",
    "    \n",
    "    def round_score(self):\n",
    "        roll = self.roll()\n",
    "        if roll > 1:\n",
    "            self.score += roll\n",
    "        else:\n",
    "            self.score = 0\n",
    "        return self.score\n",
    "    \n",
    "    def roll_or_hold(self):\n",
    "        response = input(\"Do you want to roll or hold? (Roll/Hold)\".lower())\n",
    "        if response == 'hold':\n",
    "            self.total_score += self.score\n",
    "            return self.total_score\n",
    "        if response == 'roll':\n",
    "            self.round_score()\n",
    "            print(self.score)\n",
    "            return self.roll_or_hold()"
   ]
  },
  {
   "cell_type": "code",
   "execution_count": 850,
   "metadata": {
    "collapsed": false
   },
   "outputs": [],
   "source": [
    "o = Opponent()"
   ]
  },
  {
   "cell_type": "code",
   "execution_count": 852,
   "metadata": {
    "collapsed": false
   },
   "outputs": [
    {
     "name": "stdout",
     "output_type": "stream",
     "text": [
      "do you want to roll or hold? (roll/hold)roll\n",
      "14\n",
      "do you want to roll or hold? (roll/hold)roll\n",
      "17\n",
      "do you want to roll or hold? (roll/hold)hold\n"
     ]
    },
    {
     "data": {
      "text/plain": [
       "28"
      ]
     },
     "execution_count": 852,
     "metadata": {},
     "output_type": "execute_result"
    }
   ],
   "source": [
    "o.roll_or_hold()"
   ]
  },
  {
   "cell_type": "code",
   "execution_count": 208,
   "metadata": {
    "collapsed": false
   },
   "outputs": [],
   "source": [
    "class Player:\n",
    "    \n",
    "    def __init__(self):\n",
    "        pass\n",
    "    \n",
    "    def options(question):\n",
    "        question = (input('Do you want to roll or hold. (Roll/Hold)'.lower()))\n",
    "        return question\n",
    "    \n",
    "    \n",
    "    def hold():\n",
    "        "
   ]
  },
  {
   "cell_type": "code",
   "execution_count": null,
   "metadata": {
    "collapsed": true
   },
   "outputs": [],
   "source": [
    "class Game:\n",
    "    \n",
    "    \n",
    "    def __init__(self):\n",
    "        pass"
   ]
  }
 ],
 "metadata": {
  "kernelspec": {
   "display_name": "Python 3",
   "language": "python",
   "name": "python3"
  },
  "language_info": {
   "codemirror_mode": {
    "name": "ipython",
    "version": 3
   },
   "file_extension": ".py",
   "mimetype": "text/x-python",
   "name": "python",
   "nbconvert_exporter": "python",
   "pygments_lexer": "ipython3",
   "version": "3.5.0"
  }
 },
 "nbformat": 4,
 "nbformat_minor": 0
}

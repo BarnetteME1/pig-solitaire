{
 "cells": [
  {
   "cell_type": "code",
   "execution_count": 2,
   "metadata": {
    "collapsed": true
   },
   "outputs": [],
   "source": [
    "#dice_roll\n",
    "#opponent\n",
    "#player\n",
    "#game\n",
    "import random"
   ]
  },
  {
   "cell_type": "code",
   "execution_count": 676,
   "metadata": {
    "collapsed": false
   },
   "outputs": [],
   "source": [
    "class Dice:\n",
    "    \n",
    "    def roll(self):\n",
    "        roll = random.randint(1,6)\n",
    "        return roll"
   ]
  },
  {
   "cell_type": "code",
   "execution_count": 677,
   "metadata": {
    "collapsed": false
   },
   "outputs": [
    {
     "data": {
      "text/plain": [
       "2"
      ]
     },
     "execution_count": 677,
     "metadata": {},
     "output_type": "execute_result"
    }
   ],
   "source": [
    "d = Dice()\n",
    "d.roll()"
   ]
  },
  {
   "cell_type": "code",
   "execution_count": 1039,
   "metadata": {
    "collapsed": false
   },
   "outputs": [],
   "source": [
    "class Opponent:\n",
    "    \n",
    "    def __init__(self):\n",
    "        self.dice = Dice()\n",
    "        self.score = 0\n",
    "        self.total_score = 0\n",
    "        \n",
    "        \n",
    "    def roll(self):\n",
    "        return self.dice.roll()\n",
    "    \n",
    "    def round_score(self):\n",
    "        roll = self.roll()\n",
    "        if roll > 1:\n",
    "            self.score += roll\n",
    "        else:\n",
    "            self.score = 0\n",
    "            return self.score\n",
    "        return self.score\n",
    "    \n",
    "    def roll_or_hold(self):\n",
    "        response = self.decision()\n",
    "        self.decision()\n",
    "        if response == 'hold':\n",
    "            self.total_score += self.score\n",
    "            self.score = 0\n",
    "            return self.total_score\n",
    "        if response == 'roll':\n",
    "            self.round_score()\n",
    "            print(self.score)\n",
    "            return self.roll_or_hold()\n",
    "        \n",
    "    def decision(self):\n",
    "        if self.score > 10:\n",
    "            return \"hold\"\n",
    "        else:\n",
    "            return \"roll\""
   ]
  },
  {
   "cell_type": "code",
   "execution_count": 1052,
   "metadata": {
    "collapsed": false
   },
   "outputs": [],
   "source": [
    "o = Opponent()"
   ]
  },
  {
   "cell_type": "code",
   "execution_count": 1051,
   "metadata": {
    "collapsed": false
   },
   "outputs": [
    {
     "name": "stdout",
     "output_type": "stream",
     "text": [
      "0\n",
      "6\n",
      "12\n"
     ]
    },
    {
     "data": {
      "text/plain": [
       "132"
      ]
     },
     "execution_count": 1051,
     "metadata": {},
     "output_type": "execute_result"
    }
   ],
   "source": [
    "o.roll_or_hold()"
   ]
  },
  {
   "cell_type": "code",
   "execution_count": 1053,
   "metadata": {
    "collapsed": false
   },
   "outputs": [],
   "source": [
    "class Player:\n",
    "    \n",
    "    def __init__(self):\n",
    "        self.dice = Dice()\n",
    "        self.score = 0\n",
    "        self.total_score = 0\n",
    "    \n",
    "    def roll(self):\n",
    "        return self.dice.roll()\n",
    "    \n",
    "    def round_score(self):\n",
    "        roll = self.roll()\n",
    "        if roll > 1:\n",
    "            self.score += roll\n",
    "        else:\n",
    "            self.score = 0\n",
    "        return self.score\n",
    "    \n",
    "    def roll_or_hold(self):\n",
    "        response = input(\"Do you want to roll or hold? (Roll/Hold)\".lower())\n",
    "        if response == 'hold':\n",
    "            self.total_score += self.score\n",
    "            self.score = 0\n",
    "            return self.total_score\n",
    "        if response == 'roll':\n",
    "            self.round_score()\n",
    "            print(self.score)\n",
    "            return self.roll_or_hold()"
   ]
  },
  {
   "cell_type": "code",
   "execution_count": 1034,
   "metadata": {
    "collapsed": false
   },
   "outputs": [],
   "source": [
    "class Game:\n",
    "    \n",
    "    def __init__(self):\n",
    "        self.player_1 = Player()\n",
    "        self.player_2 = Opponent()\n",
    "        \n",
    "\n",
    "    def turn(self):\n",
    "        "
   ]
  },
  {
   "cell_type": "code",
   "execution_count": 972,
   "metadata": {
    "collapsed": false
   },
   "outputs": [
    {
     "name": "stdout",
     "output_type": "stream",
     "text": [
      "Pick heads or tails. heads\n"
     ]
    },
    {
     "data": {
      "text/plain": [
       "'Fine, wise guy. Your opponent goes first'"
      ]
     },
     "execution_count": 972,
     "metadata": {},
     "output_type": "execute_result"
    }
   ],
   "source": [
    "g = Game()\n",
    "g.pick_first()"
   ]
  },
  {
   "cell_type": "code",
   "execution_count": 959,
   "metadata": {
    "collapsed": false
   },
   "outputs": [],
   "source": [
    "def heads_tails():\n",
    "    return random.choice(['heads', 'tails'])"
   ]
  },
  {
   "cell_type": "code",
   "execution_count": 970,
   "metadata": {
    "collapsed": false
   },
   "outputs": [
    {
     "data": {
      "text/plain": [
       "'tails'"
      ]
     },
     "execution_count": 970,
     "metadata": {},
     "output_type": "execute_result"
    }
   ],
   "source": [
    "heads_tails()"
   ]
  },
  {
   "cell_type": "code",
   "execution_count": null,
   "metadata": {
    "collapsed": true
   },
   "outputs": [],
   "source": [
    "    def pick_first(self):\n",
    "        guess = input(\"Pick heads or tails. \").lower()\n",
    "        coin_toss = random.choice(['heads', 'tails'])\n",
    "        if guess == coin_toss:\n",
    "            return \"You go first.\"\n",
    "        elif guess != 'heads' or guess != 'tails':\n",
    "            return \"Fine, wise guy. Your opponent goes first\"\n",
    "        else:\n",
    "            return \"Your opponent goes first.\""
   ]
  }
 ],
 "metadata": {
  "kernelspec": {
   "display_name": "Python 3",
   "language": "python",
   "name": "python3"
  },
  "language_info": {
   "codemirror_mode": {
    "name": "ipython",
    "version": 3
   },
   "file_extension": ".py",
   "mimetype": "text/x-python",
   "name": "python",
   "nbconvert_exporter": "python",
   "pygments_lexer": "ipython3",
   "version": "3.5.0"
  }
 },
 "nbformat": 4,
 "nbformat_minor": 0
}
